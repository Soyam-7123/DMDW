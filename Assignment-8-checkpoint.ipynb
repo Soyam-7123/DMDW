{
 "cells": [
  {
   "cell_type": "code",
   "execution_count": 56,
   "id": "d3a2f664",
   "metadata": {},
   "outputs": [],
   "source": [
    "dataset = [\n",
    "    [1.70, 65, 20, 'Programmer'],\n",
    "    [1.90, 85, 33, 'Builder'],\n",
    "    [1.78, 76, 31, 'Builder'],\n",
    "    [1.73, 74, 24, 'Programmer'],\n",
    "    [1.81, 75, 35, 'Builder'],\n",
    "    [1.73, 70, 75, 'Scientist'],\n",
    "    [1.80, 71, 63, 'Scientist'],\n",
    "    [1.75, 69, 25, 'Programmer']\n",
    "]"
   ]
  },
  {
   "cell_type": "code",
   "execution_count": 57,
   "id": "e98250a3",
   "metadata": {},
   "outputs": [],
   "source": [
    "def euclidean_distance(point1, point2):\n",
    "    distance = 0\n",
    "    for i in range(len(point1) - 1):\n",
    "        distance += (point1[i] - point2[i]) ** 2\n",
    "    return distance ** 0.5"
   ]
  },
  {
   "cell_type": "code",
   "execution_count": 58,
   "id": "2f206bc0",
   "metadata": {},
   "outputs": [],
   "source": [
    "def knn_predict(dataset, new_data, k=3):\n",
    "    distances = []\n",
    "    for data_point in dataset:\n",
    "        dist = euclidean_distance(data_point, new_data)\n",
    "        distances.append((data_point, dist))\n",
    "    distances.sort(key=lambda x: x[1])\n",
    "    neighbors = [data[0] for data in distances[:k]]\n",
    "    class_counts = {}\n",
    "    for neighbor in neighbors:\n",
    "        label = neighbor[-1] \n",
    "        if label in class_counts:\n",
    "            class_counts[label] += 1\n",
    "        else:\n",
    "            class_counts[label] = 1\n",
    "    predicted_class = max(class_counts, key=class_counts.get)\n",
    "    return predicted_class"
   ]
  },
  {
   "cell_type": "code",
   "execution_count": 59,
   "id": "b8d71510",
   "metadata": {},
   "outputs": [
    {
     "name": "stdout",
     "output_type": "stream",
     "text": [
      "Enter Height: 1.69\n",
      "Enter Weight: 75\n",
      "Enter Age: 37\n",
      "Enter the value of k: 3\n",
      "The predicted class for the input data point is: Builder\n"
     ]
    }
   ],
   "source": [
    "new_data_point = [float(input(\"Enter Height: \")), float(input(\"Enter Weight: \")), float(input(\"Enter Age: \"))]\n",
    "k_value = int(input(\"Enter the value of k: \"))\n",
    "new_data_point.append(knn_predict(dataset, new_data_point, k=k_value))\n",
    "print(f\"The predicted class for the input data point is: {new_data_point[-1]}\")"
   ]
  },
  {
   "cell_type": "code",
   "execution_count": null,
   "id": "a2f9b370",
   "metadata": {},
   "outputs": [],
   "source": []
  }
 ],
 "metadata": {
  "kernelspec": {
   "display_name": "Python 3 (ipykernel)",
   "language": "python",
   "name": "python3"
  },
  "language_info": {
   "codemirror_mode": {
    "name": "ipython",
    "version": 3
   },
   "file_extension": ".py",
   "mimetype": "text/x-python",
   "name": "python",
   "nbconvert_exporter": "python",
   "pygments_lexer": "ipython3",
   "version": "3.10.9"
  }
 },
 "nbformat": 4,
 "nbformat_minor": 5
}
