{
 "cells": [
  {
   "cell_type": "code",
   "execution_count": 1,
   "id": "2f85f002",
   "metadata": {},
   "outputs": [],
   "source": [
    "import pandas as pd"
   ]
  },
  {
   "cell_type": "code",
   "execution_count": 2,
   "id": "8d91eb01",
   "metadata": {},
   "outputs": [
    {
     "name": "stdout",
     "output_type": "stream",
     "text": [
      "The Mean is:\n",
      " Id               75.500000\n",
      "SepalLengthCm     5.843333\n",
      "SepalWidthCm      3.054000\n",
      "PetalLengthCm     3.758667\n",
      "PetalWidthCm      1.198667\n",
      "dtype: float64\n",
      "The Median is:\n",
      " Id               75.50\n",
      "SepalLengthCm     5.80\n",
      "SepalWidthCm      3.00\n",
      "PetalLengthCm     4.35\n",
      "PetalWidthCm      1.30\n",
      "dtype: float64\n",
      "The Mode is:\n",
      "       Id  SepalLengthCm  SepalWidthCm  PetalLengthCm  PetalWidthCm  \\\n",
      "0      1            5.0           3.0            1.5           0.2   \n",
      "1      2            NaN           NaN            NaN           NaN   \n",
      "2      3            NaN           NaN            NaN           NaN   \n",
      "3      4            NaN           NaN            NaN           NaN   \n",
      "4      5            NaN           NaN            NaN           NaN   \n",
      "..   ...            ...           ...            ...           ...   \n",
      "145  146            NaN           NaN            NaN           NaN   \n",
      "146  147            NaN           NaN            NaN           NaN   \n",
      "147  148            NaN           NaN            NaN           NaN   \n",
      "148  149            NaN           NaN            NaN           NaN   \n",
      "149  150            NaN           NaN            NaN           NaN   \n",
      "\n",
      "             Species  \n",
      "0        Iris-setosa  \n",
      "1    Iris-versicolor  \n",
      "2     Iris-virginica  \n",
      "3                NaN  \n",
      "4                NaN  \n",
      "..               ...  \n",
      "145              NaN  \n",
      "146              NaN  \n",
      "147              NaN  \n",
      "148              NaN  \n",
      "149              NaN  \n",
      "\n",
      "[150 rows x 6 columns]\n"
     ]
    },
    {
     "name": "stderr",
     "output_type": "stream",
     "text": [
      "C:\\Users\\soyam\\AppData\\Local\\Temp\\ipykernel_18844\\3552980734.py:2: FutureWarning: The default value of numeric_only in DataFrame.mean is deprecated. In a future version, it will default to False. In addition, specifying 'numeric_only=None' is deprecated. Select only valid columns or specify the value of numeric_only to silence this warning.\n",
      "  x=df.mean()\n",
      "C:\\Users\\soyam\\AppData\\Local\\Temp\\ipykernel_18844\\3552980734.py:4: FutureWarning: The default value of numeric_only in DataFrame.median is deprecated. In a future version, it will default to False. In addition, specifying 'numeric_only=None' is deprecated. Select only valid columns or specify the value of numeric_only to silence this warning.\n",
      "  y=df.median()\n"
     ]
    }
   ],
   "source": [
    "df=pd.read_csv('Iris.csv')\n",
    "x=df.mean()\n",
    "print(\"The Mean is:\\n\",x)\n",
    "y=df.median()\n",
    "print(\"The Median is:\\n\",y)\n",
    "z=df.mode()\n",
    "print(\"The Mode is:\\n\",z)"
   ]
  },
  {
   "cell_type": "code",
   "execution_count": 3,
   "id": "a76168bb",
   "metadata": {},
   "outputs": [],
   "source": [
    "import csv"
   ]
  },
  {
   "cell_type": "code",
   "execution_count": 4,
   "id": "cbf93c88",
   "metadata": {},
   "outputs": [],
   "source": [
    "def read_iris_data(file_path):\n",
    "    data = []\n",
    "    with open(file_path, 'r') as file:\n",
    "        csv_reader = csv.reader(file)\n",
    "        next(csv_reader) \n",
    "        for row in csv_reader:\n",
    "            data.append(float(row[0]))\n",
    "    return data"
   ]
  },
  {
   "cell_type": "code",
   "execution_count": 5,
   "id": "131ebde5",
   "metadata": {},
   "outputs": [],
   "source": [
    "def calculate_mean(data):\n",
    "    return sum(data) / len(data)"
   ]
  },
  {
   "cell_type": "code",
   "execution_count": 6,
   "id": "b4ca7ac8",
   "metadata": {},
   "outputs": [],
   "source": [
    "def calculate_median(data):\n",
    "    sorted_data = sorted(data)\n",
    "    n = len(sorted_data)\n",
    "    if n % 2 == 0:\n",
    "        return (sorted_data[n//2 - 1] + sorted_data[n//2]) / 2\n",
    "    else:\n",
    "        return sorted_data[n//2]"
   ]
  },
  {
   "cell_type": "code",
   "execution_count": 7,
   "id": "d5a485a3",
   "metadata": {},
   "outputs": [],
   "source": [
    "def calculate_mode(data):\n",
    "    frequency = {}\n",
    "    for item in data:\n",
    "        frequency[item] = frequency.get(item, 0) + 1\n",
    "    mode = max(frequency, key=frequency.get)\n",
    "    return mode"
   ]
  },
  {
   "cell_type": "code",
   "execution_count": 8,
   "id": "7ff31d57",
   "metadata": {},
   "outputs": [
    {
     "name": "stdout",
     "output_type": "stream",
     "text": [
      "Mean: 75.5\n",
      "Median: 75.5\n",
      "Mode: 1.0\n"
     ]
    }
   ],
   "source": [
    "if __name__ == \"__main__\":\n",
    "    file_path = \"Iris.csv\" \n",
    "    data = read_iris_data(file_path)\n",
    "    mean = calculate_mean(data)\n",
    "    median = calculate_median(data)\n",
    "    mode = calculate_mode(data)\n",
    "    print(\"Mean:\", mean)\n",
    "    print(\"Median:\", median)\n",
    "    print(\"Mode:\", mode)"
   ]
  },
  {
   "cell_type": "code",
   "execution_count": 9,
   "id": "1f993048",
   "metadata": {},
   "outputs": [
    {
     "name": "stdout",
     "output_type": "stream",
     "text": [
      "Enter the number of elements in the dataset: 5\n",
      "Enter element 1: 1\n",
      "Enter element 2: 2\n",
      "Enter element 3: 3\n",
      "Enter element 4: 4\n",
      "Enter element 5: 5\n",
      "Variance: 2.0\n",
      "Standard Deviation: 1.4142135623730951\n"
     ]
    }
   ],
   "source": [
    "data = []\n",
    "n= int(input(\"Enter the number of elements in the dataset: \"))\n",
    "for i in range(n):\n",
    "    element = float(input(f\"Enter element {i+1}: \"))\n",
    "    data.append(element)\n",
    "mean = sum(data) / len(data)\n",
    "variance = sum((x - mean) ** 2 for x in data) / len(data)\n",
    "standard_deviation = variance ** 0.5\n",
    "print(\"Variance:\", variance)\n",
    "print(\"Standard Deviation:\", standard_deviation)\n"
   ]
  },
  {
   "cell_type": "code",
   "execution_count": 10,
   "id": "4304fde3",
   "metadata": {},
   "outputs": [
    {
     "name": "stdout",
     "output_type": "stream",
     "text": [
      "Enter the number of elements in the list: 5\n",
      "Enter number 1: 1\n",
      "Enter number 2: 2\n",
      "Enter number 3: 3\n",
      "Enter number 4: 4\n",
      "Enter number 5: 5\n",
      "List of numbers: [1, 2, 3, 4, 5]\n"
     ]
    }
   ],
   "source": [
    "numbers_list = []\n",
    "num_elements = int(input(\"Enter the number of elements in the list: \"))\n",
    "for i in range(num_elements):\n",
    "    num = int(input(f\"Enter number {i+1}: \"))\n",
    "    numbers_list.append(num)\n",
    "print(\"List of numbers:\", numbers_list)"
   ]
  },
  {
   "cell_type": "code",
   "execution_count": 11,
   "id": "eda9be3d",
   "metadata": {},
   "outputs": [
    {
     "name": "stdout",
     "output_type": "stream",
     "text": [
      "Enter your name: soyam\n",
      "Enter your age: 19\n",
      "Your name and age: ('soyam', 19)\n"
     ]
    }
   ],
   "source": [
    "name = input(\"Enter your name: \")\n",
    "age = int(input(\"Enter your age: \"))\n",
    "coordinates_tuple = (name, age)\n",
    "print(\"Your name and age:\", coordinates_tuple)"
   ]
  },
  {
   "cell_type": "code",
   "execution_count": 12,
   "id": "ef4a5b8e",
   "metadata": {},
   "outputs": [
    {
     "name": "stdout",
     "output_type": "stream",
     "text": [
      "Enter student's name: soyam\n",
      "Enter student's age: 19\n",
      "Enter student's gender: male\n",
      "Student details: {'name': 'soyam', 'age': 19, 'gender': 'male'}\n"
     ]
    }
   ],
   "source": [
    "student_dict = {}\n",
    "student_dict['name'] = input(\"Enter student's name: \")\n",
    "student_dict['age'] = int(input(\"Enter student's age: \"))\n",
    "student_dict['gender'] = input(\"Enter student's gender: \")\n",
    "print(\"Student details:\", student_dict)\n"
   ]
  },
  {
   "cell_type": "code",
   "execution_count": 13,
   "id": "393ca059",
   "metadata": {},
   "outputs": [
    {
     "name": "stdout",
     "output_type": "stream",
     "text": [
      "Enter a sentence: Soyam Kumar Praharaj\n",
      "Your sentence: Soyam Kumar Praharaj\n"
     ]
    }
   ],
   "source": [
    "sentence = input(\"Enter a sentence: \")\n",
    "print(\"Your sentence:\", sentence)\n"
   ]
  },
  {
   "cell_type": "code",
   "execution_count": null,
   "id": "62361af6",
   "metadata": {},
   "outputs": [],
   "source": []
  }
 ],
 "metadata": {
  "kernelspec": {
   "display_name": "Python 3 (ipykernel)",
   "language": "python",
   "name": "python3"
  },
  "language_info": {
   "codemirror_mode": {
    "name": "ipython",
    "version": 3
   },
   "file_extension": ".py",
   "mimetype": "text/x-python",
   "name": "python",
   "nbconvert_exporter": "python",
   "pygments_lexer": "ipython3",
   "version": "3.10.9"
  }
 },
 "nbformat": 4,
 "nbformat_minor": 5
}
