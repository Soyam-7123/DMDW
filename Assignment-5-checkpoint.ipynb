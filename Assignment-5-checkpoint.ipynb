{
 "cells": [
  {
   "cell_type": "code",
   "execution_count": 38,
   "id": "b9c1079b",
   "metadata": {},
   "outputs": [],
   "source": [
    "import pandas as pd\n",
    "from sklearn.preprocessing import MinMaxScaler, StandardScaler"
   ]
  },
  {
   "cell_type": "code",
   "execution_count": 39,
   "id": "92e297e0",
   "metadata": {},
   "outputs": [],
   "source": [
    "df = pd.read_csv('Toyota.csv')"
   ]
  },
  {
   "cell_type": "code",
   "execution_count": 40,
   "id": "538e32b3",
   "metadata": {},
   "outputs": [
    {
     "name": "stdout",
     "output_type": "stream",
     "text": [
      "   Unnamed: 0  Price   Age     KM FuelType  HP  MetColor  Automatic    CC  \\\n",
      "0           0  13500  23.0  46986   Diesel  90       1.0          0  2000   \n",
      "1           1  13750  23.0  72937   Diesel  90       1.0          0  2000   \n",
      "2           2  13950  24.0  41711   Diesel  90       NaN          0  2000   \n",
      "3           3  14950  26.0  48000   Diesel  90       0.0          0  2000   \n",
      "4           4  13750  30.0  38500   Diesel  90       0.0          0  2000   \n",
      "\n",
      "   Doors  Weight  \n",
      "0  three    1165  \n",
      "1      3    1165  \n",
      "2      3    1165  \n",
      "3      3    1165  \n",
      "4      3    1170  \n"
     ]
    }
   ],
   "source": [
    "print(df.head())"
   ]
  },
  {
   "cell_type": "code",
   "execution_count": 41,
   "id": "1afcd7d0",
   "metadata": {},
   "outputs": [
    {
     "name": "stdout",
     "output_type": "stream",
     "text": [
      "      Unnamed: 0     Price       Age     KM FuelType   HP  MetColor  \\\n",
      "0              0  0.325044  0.278481  46986   Diesel   90       1.0   \n",
      "1              1  0.333925  0.278481  72937   Diesel   90       1.0   \n",
      "2              2  0.341030  0.291139  41711   Diesel   90       NaN   \n",
      "3              3  0.376554  0.316456  48000   Diesel   90       0.0   \n",
      "4              4  0.333925  0.367089  38500   Diesel   90       0.0   \n",
      "...          ...       ...       ...    ...      ...  ...       ...   \n",
      "1431        1431  0.111901       NaN  20544   Petrol   86       1.0   \n",
      "1432        1432  0.230728  0.898734     ??   Petrol   86       0.0   \n",
      "1433        1433  0.147425       NaN  17016   Petrol   86       0.0   \n",
      "1434        1434  0.103020  0.873418     ??      NaN   86       1.0   \n",
      "1435        1435  0.092362  0.949367      1   Petrol  110       0.0   \n",
      "\n",
      "      Automatic    CC  Doors  Weight  \n",
      "0             0  2000  three    1165  \n",
      "1             0  2000      3    1165  \n",
      "2             0  2000      3    1165  \n",
      "3             0  2000      3    1165  \n",
      "4             0  2000      3    1170  \n",
      "...         ...   ...    ...     ...  \n",
      "1431          0  1300      3    1025  \n",
      "1432          0  1300      3    1015  \n",
      "1433          0  1300      3    1015  \n",
      "1434          0  1300      3    1015  \n",
      "1435          0  1600      5    1114  \n",
      "\n",
      "[1436 rows x 11 columns]\n"
     ]
    }
   ],
   "source": [
    "# Min-Max Scaling\n",
    "min_max_scaler = MinMaxScaler()\n",
    "df[['Age', 'Price']] = min_max_scaler.fit_transform(df[['Age', 'Price']])\n",
    "print(df)"
   ]
  },
  {
   "cell_type": "code",
   "execution_count": 42,
   "id": "1ac2f1d2",
   "metadata": {
    "scrolled": true
   },
   "outputs": [
    {
     "name": "stdout",
     "output_type": "stream",
     "text": [
      "      Unnamed: 0     Price       Age     KM FuelType   HP  MetColor  \\\n",
      "0              0  0.325044  0.278481  46986   Diesel   90       1.0   \n",
      "1              1  0.333925  0.278481  72937   Diesel   90       1.0   \n",
      "2              2  0.341030  0.291139  41711   Diesel   90       NaN   \n",
      "3              3  0.376554  0.316456  48000   Diesel   90       0.0   \n",
      "4              4  0.333925  0.367089  38500   Diesel   90       0.0   \n",
      "...          ...       ...       ...    ...      ...  ...       ...   \n",
      "1431        1431  0.111901       NaN  20544   Petrol   86       1.0   \n",
      "1432        1432  0.230728  0.898734     ??   Petrol   86       0.0   \n",
      "1433        1433  0.147425       NaN  17016   Petrol   86       0.0   \n",
      "1434        1434  0.103020  0.873418     ??      NaN   86       1.0   \n",
      "1435        1435  0.092362  0.949367      1   Petrol  110       0.0   \n",
      "\n",
      "      Automatic    CC  Doors  Weight  Age_ZScore  Price_ZScore  \n",
      "0             0  2000  three    1165   -1.758189      0.763763  \n",
      "1             0  2000      3    1165   -1.758189      0.832715  \n",
      "2             0  2000      3    1165   -1.704376      0.887877  \n",
      "3             0  2000      3    1165   -1.596750      1.163685  \n",
      "4             0  2000      3    1170   -1.381498      0.832715  \n",
      "...         ...   ...    ...     ...         ...           ...  \n",
      "1431          0  1300      3    1025         NaN     -0.891089  \n",
      "1432          0  1300      3    1015    0.878651      0.031491  \n",
      "1433          0  1300      3    1015         NaN     -0.615281  \n",
      "1434          0  1300      3    1015    0.771025     -0.960042  \n",
      "1435          0  1600      5    1114    1.093904     -1.042784  \n",
      "\n",
      "[1436 rows x 13 columns]\n"
     ]
    }
   ],
   "source": [
    "# Z-score Scaling\n",
    "scaler = StandardScaler()\n",
    "df['Age_ZScore'] = scaler.fit_transform(df[['Age']])\n",
    "df['Price_ZScore'] = scaler.fit_transform(df[['Price']])\n",
    "print(df)"
   ]
  },
  {
   "cell_type": "code",
   "execution_count": 44,
   "id": "f7c9654f",
   "metadata": {},
   "outputs": [
    {
     "name": "stdout",
     "output_type": "stream",
     "text": [
      "      Unnamed: 0     Price       Age     KM FuelType   HP  MetColor  \\\n",
      "0              0  0.325044  0.278481  46986   Diesel   90       1.0   \n",
      "1              1  0.333925  0.278481  72937   Diesel   90       1.0   \n",
      "2              2  0.341030  0.291139  41711   Diesel   90       NaN   \n",
      "3              3  0.376554  0.316456  48000   Diesel   90       0.0   \n",
      "4              4  0.333925  0.367089  38500   Diesel   90       0.0   \n",
      "...          ...       ...       ...    ...      ...  ...       ...   \n",
      "1431        1431  0.111901       NaN  20544   Petrol   86       1.0   \n",
      "1432        1432  0.230728  0.898734     ??   Petrol   86       0.0   \n",
      "1433        1433  0.147425       NaN  17016   Petrol   86       0.0   \n",
      "1434        1434  0.103020  0.873418     ??      NaN   86       1.0   \n",
      "1435        1435  0.092362  0.949367      1   Petrol  110       0.0   \n",
      "\n",
      "      Automatic    CC  Doors  Weight  Age_ZScore  Price_ZScore  Age_Decimal  \\\n",
      "0             0  2000  three    1165   -1.758189      0.763763     0.002785   \n",
      "1             0  2000      3    1165   -1.758189      0.832715     0.002785   \n",
      "2             0  2000      3    1165   -1.704376      0.887877     0.002911   \n",
      "3             0  2000      3    1165   -1.596750      1.163685     0.003165   \n",
      "4             0  2000      3    1170   -1.381498      0.832715     0.003671   \n",
      "...         ...   ...    ...     ...         ...           ...          ...   \n",
      "1431          0  1300      3    1025         NaN     -0.891089          NaN   \n",
      "1432          0  1300      3    1015    0.878651      0.031491     0.008987   \n",
      "1433          0  1300      3    1015         NaN     -0.615281          NaN   \n",
      "1434          0  1300      3    1015    0.771025     -0.960042     0.008734   \n",
      "1435          0  1600      5    1114    1.093904     -1.042784     0.009494   \n",
      "\n",
      "      Price_Decimal  \n",
      "0          0.000033  \n",
      "1          0.000033  \n",
      "2          0.000034  \n",
      "3          0.000038  \n",
      "4          0.000033  \n",
      "...             ...  \n",
      "1431       0.000011  \n",
      "1432       0.000023  \n",
      "1433       0.000015  \n",
      "1434       0.000010  \n",
      "1435       0.000009  \n",
      "\n",
      "[1436 rows x 15 columns]\n"
     ]
    }
   ],
   "source": [
    "# Decimal Scaling\n",
    "df['Age_Decimal'] = df['Age'] / 100\n",
    "df['Price_Decimal'] = df['Price'] /10000\n",
    "print(df)"
   ]
  },
  {
   "cell_type": "code",
   "execution_count": null,
   "id": "ac08dbab",
   "metadata": {},
   "outputs": [],
   "source": []
  },
  {
   "cell_type": "code",
   "execution_count": null,
   "id": "8a7367f4",
   "metadata": {},
   "outputs": [],
   "source": []
  }
 ],
 "metadata": {
  "kernelspec": {
   "display_name": "Python 3 (ipykernel)",
   "language": "python",
   "name": "python3"
  },
  "language_info": {
   "codemirror_mode": {
    "name": "ipython",
    "version": 3
   },
   "file_extension": ".py",
   "mimetype": "text/x-python",
   "name": "python",
   "nbconvert_exporter": "python",
   "pygments_lexer": "ipython3",
   "version": "3.10.9"
  }
 },
 "nbformat": 4,
 "nbformat_minor": 5
}
