{
 "cells": [
  {
   "cell_type": "code",
   "execution_count": 6,
   "id": "37700e16",
   "metadata": {},
   "outputs": [],
   "source": [
    "from numpy import*"
   ]
  },
  {
   "cell_type": "code",
   "execution_count": 7,
   "id": "38732709",
   "metadata": {},
   "outputs": [],
   "source": [
    "def loadDataSet():\n",
    "    return [['M','O','N','K','E','Y'],['D','O','N','K','E','Y'],['M','A','K','E'],['M','U','C','K','Y'],['C','O','O','K','I','E']]"
   ]
  },
  {
   "cell_type": "code",
   "execution_count": 8,
   "id": "21c39fe8",
   "metadata": {},
   "outputs": [],
   "source": [
    "def createC1(dataset):\n",
    "   C1=[]\n",
    "   for transaction in dataSet:\n",
    "       for item in transaction:\n",
    "          if not [item] in C1:\n",
    "              C1.append([item])\n",
    "   C1.sort()\n",
    "   return list(map(frozenset,C1))\n"
   ]
  },
  {
   "cell_type": "code",
   "execution_count": 9,
   "id": "b6a76ac7",
   "metadata": {},
   "outputs": [],
   "source": [
    "def scanD(D,Ck,minSupport):\n",
    "   ssCnt={}\n",
    "   for tid in D:\n",
    "      for can in Ck:\n",
    "        if can.issubset(tid):\n",
    "            if not can in ssCnt:\n",
    "                 ssCnt[can]=1\n",
    "            else:\n",
    "                 ssCnt[can]+=1\n",
    "   numItems=float(len(D))\n",
    "   retList=[]\n",
    "   supportData={}\n",
    "   for key in ssCnt:\n",
    "        support=ssCnt[key]/numItems\n",
    "        if support>=minSupport:\n",
    "             retList.insert(0,key)\n",
    "        supportData[key]=support\n",
    "   return retList,supportData\n",
    "\n"
   ]
  },
  {
   "cell_type": "code",
   "execution_count": 10,
   "id": "70cbac26",
   "metadata": {},
   "outputs": [
    {
     "data": {
      "text/plain": [
       "[['M', 'O', 'N', 'K', 'E', 'Y'],\n",
       " ['D', 'O', 'N', 'K', 'E', 'Y'],\n",
       " ['M', 'A', 'K', 'E'],\n",
       " ['M', 'U', 'C', 'K', 'Y'],\n",
       " ['C', 'O', 'O', 'K', 'I', 'E']]"
      ]
     },
     "execution_count": 10,
     "metadata": {},
     "output_type": "execute_result"
    }
   ],
   "source": [
    "dataSet=loadDataSet()\n",
    "dataSet\n"
   ]
  },
  {
   "cell_type": "code",
   "execution_count": 11,
   "id": "d613adfb",
   "metadata": {},
   "outputs": [
    {
     "data": {
      "text/plain": [
       "[frozenset({'A'}),\n",
       " frozenset({'C'}),\n",
       " frozenset({'D'}),\n",
       " frozenset({'E'}),\n",
       " frozenset({'I'}),\n",
       " frozenset({'K'}),\n",
       " frozenset({'M'}),\n",
       " frozenset({'N'}),\n",
       " frozenset({'O'}),\n",
       " frozenset({'U'}),\n",
       " frozenset({'Y'})]"
      ]
     },
     "execution_count": 11,
     "metadata": {},
     "output_type": "execute_result"
    }
   ],
   "source": [
    "C1=createC1(dataSet)\n",
    "C1"
   ]
  },
  {
   "cell_type": "code",
   "execution_count": 12,
   "id": "5acf47dc",
   "metadata": {},
   "outputs": [
    {
     "data": {
      "text/plain": [
       "[{'E', 'K', 'M', 'N', 'O', 'Y'},\n",
       " {'D', 'E', 'K', 'N', 'O', 'Y'},\n",
       " {'A', 'E', 'K', 'M'},\n",
       " {'C', 'K', 'M', 'U', 'Y'},\n",
       " {'C', 'E', 'I', 'K', 'O'}]"
      ]
     },
     "execution_count": 12,
     "metadata": {},
     "output_type": "execute_result"
    }
   ],
   "source": [
    "D=list(map(set,dataSet))\n",
    "D"
   ]
  },
  {
   "cell_type": "code",
   "execution_count": 13,
   "id": "137aa501",
   "metadata": {},
   "outputs": [
    {
     "data": {
      "text/plain": [
       "[frozenset({'Y'}),\n",
       " frozenset({'O'}),\n",
       " frozenset({'M'}),\n",
       " frozenset({'K'}),\n",
       " frozenset({'E'})]"
      ]
     },
     "execution_count": 13,
     "metadata": {},
     "output_type": "execute_result"
    }
   ],
   "source": [
    "L1,suppDat0=scanD(D,C1,0.6)\n",
    "L1\n"
   ]
  },
  {
   "cell_type": "code",
   "execution_count": 14,
   "id": "88a60eef",
   "metadata": {},
   "outputs": [],
   "source": [
    "def aprioriGen(Lk, k):\n",
    "    retList = []\n",
    "    lenLk = len(Lk)\n",
    "    for i in range(lenLk):\n",
    "        for j in range(i+1, lenLk): \n",
    "            L1 = list(Lk[i])[:k-2]; L2 = list(Lk[j])[:k-2]\n",
    "            L1.sort(); L2.sort()\n",
    "            if L1==L2:\n",
    "                retList.append(Lk[i] | Lk[j])\n",
    "    return retList\n"
   ]
  },
  {
   "cell_type": "code",
   "execution_count": 15,
   "id": "baa4abd3",
   "metadata": {},
   "outputs": [],
   "source": [
    "def apriori(dataSet, minSupport = 0.6):\n",
    "    C1 = createC1(dataSet)\n",
    "    D = list(map(set, dataSet))\n",
    "    L1, supportData = scanD(D, C1, minSupport)\n",
    "    L = [L1]\n",
    "    k = 2\n",
    "    while (len(L[k-2]) > 0):\n",
    "        Ck = aprioriGen(L[k-2], k)\n",
    "        Lk, supK = scanD(D, Ck, minSupport)\n",
    "        supportData.update(supK)\n",
    "        L.append(Lk)\n",
    "        k += 1\n",
    "    return L, supportData\n"
   ]
  },
  {
   "cell_type": "code",
   "execution_count": 16,
   "id": "b382d402",
   "metadata": {},
   "outputs": [
    {
     "data": {
      "text/plain": [
       "[[frozenset({'Y'}),\n",
       "  frozenset({'O'}),\n",
       "  frozenset({'M'}),\n",
       "  frozenset({'K'}),\n",
       "  frozenset({'E'})],\n",
       " [frozenset({'E', 'K'}),\n",
       "  frozenset({'K', 'M'}),\n",
       "  frozenset({'E', 'O'}),\n",
       "  frozenset({'K', 'O'}),\n",
       "  frozenset({'K', 'Y'})],\n",
       " [frozenset({'E', 'K', 'O'})],\n",
       " []]"
      ]
     },
     "execution_count": 16,
     "metadata": {},
     "output_type": "execute_result"
    }
   ],
   "source": [
    "L,suppData=apriori(dataSet)\n",
    "L"
   ]
  },
  {
   "cell_type": "code",
   "execution_count": 17,
   "id": "5361d79e",
   "metadata": {},
   "outputs": [
    {
     "data": {
      "text/plain": [
       "[frozenset({'Y'}),\n",
       " frozenset({'O'}),\n",
       " frozenset({'M'}),\n",
       " frozenset({'K'}),\n",
       " frozenset({'E'})]"
      ]
     },
     "execution_count": 17,
     "metadata": {},
     "output_type": "execute_result"
    }
   ],
   "source": [
    "L[0]"
   ]
  },
  {
   "cell_type": "code",
   "execution_count": 18,
   "id": "d7cfe894",
   "metadata": {},
   "outputs": [
    {
     "data": {
      "text/plain": [
       "[frozenset({'E', 'K'}),\n",
       " frozenset({'K', 'M'}),\n",
       " frozenset({'E', 'O'}),\n",
       " frozenset({'K', 'O'}),\n",
       " frozenset({'K', 'Y'})]"
      ]
     },
     "execution_count": 18,
     "metadata": {},
     "output_type": "execute_result"
    }
   ],
   "source": [
    "L[1]"
   ]
  },
  {
   "cell_type": "code",
   "execution_count": 19,
   "id": "4e724d71",
   "metadata": {},
   "outputs": [
    {
     "data": {
      "text/plain": [
       "[frozenset({'E', 'K', 'O'})]"
      ]
     },
     "execution_count": 19,
     "metadata": {},
     "output_type": "execute_result"
    }
   ],
   "source": [
    "L[2]"
   ]
  },
  {
   "cell_type": "code",
   "execution_count": 20,
   "id": "889347ad",
   "metadata": {},
   "outputs": [
    {
     "data": {
      "text/plain": [
       "[]"
      ]
     },
     "execution_count": 20,
     "metadata": {},
     "output_type": "execute_result"
    }
   ],
   "source": [
    "L[3]"
   ]
  },
  {
   "cell_type": "code",
   "execution_count": 21,
   "id": "2b8c2d70",
   "metadata": {},
   "outputs": [
    {
     "data": {
      "text/plain": [
       "[frozenset({'O', 'Y'}),\n",
       " frozenset({'M', 'Y'}),\n",
       " frozenset({'K', 'Y'}),\n",
       " frozenset({'E', 'Y'}),\n",
       " frozenset({'M', 'O'}),\n",
       " frozenset({'K', 'O'}),\n",
       " frozenset({'E', 'O'}),\n",
       " frozenset({'K', 'M'}),\n",
       " frozenset({'E', 'M'}),\n",
       " frozenset({'E', 'K'})]"
      ]
     },
     "execution_count": 21,
     "metadata": {},
     "output_type": "execute_result"
    }
   ],
   "source": [
    "aprioriGen(L[0],2)"
   ]
  },
  {
   "cell_type": "code",
   "execution_count": 22,
   "id": "ef57b43e",
   "metadata": {},
   "outputs": [],
   "source": [
    "def generateRules(L,supportData,minConf=0.7):\n",
    " bigRuleList=[]\n",
    " for i in range(1,len(L)):\n",
    "  for freqSet in L[i]:\n",
    "    H1=[frozenset([item])for item in freqSet]\n",
    "    if(i>1):\n",
    "     rulesFromConseq(freqSet,H1,supportData,bigRuleList,minConf)\n",
    "    else:\n",
    "     calcConf(freqSet,H1,supportData,bigRuleList,minConf)\n",
    " return bigRuleList"
   ]
  },
  {
   "cell_type": "code",
   "execution_count": 23,
   "id": "89a5f6b2",
   "metadata": {},
   "outputs": [],
   "source": [
    "def calcConf(freqSet,H,supportData,brl,minConf=0.7):\n",
    " prunedH=[]\n",
    " for conseq in H:\n",
    "  conf=supportData[freqSet]/supportData[freqSet-conseq]\n",
    "  if conf>=minConf:\n",
    "   print(freqSet-conseq,'-->',conseq,'conf:',conf)\n",
    "   brl.append((freqSet-conseq,conseq,conf))\n",
    "   prunedH.append(conseq)\n",
    " return prunedH"
   ]
  },
  {
   "cell_type": "code",
   "execution_count": 24,
   "id": "794c7850",
   "metadata": {},
   "outputs": [],
   "source": [
    "def rulesFromConseq(freqSet,H,supportData,brl,minConf=0.7):\n",
    " m=len(H[0])\n",
    " if(len(freqSet)>(m+1)):\n",
    "  Hmp1=aprioriGen(H,m+1)\n",
    "  Hmp1=calcConf(freqSet,Hmp1,supportData,brl,minConf)\n",
    " if(len(Hmp1)>1):\n",
    "   rulesFromConseq(freqSet,Hmp1,supportData,brl,minConf)"
   ]
  },
  {
   "cell_type": "code",
   "execution_count": 25,
   "id": "df521f43",
   "metadata": {},
   "outputs": [],
   "source": [
    "L,suppData=apriori(dataSet,minSupport=0.6)"
   ]
  },
  {
   "cell_type": "code",
   "execution_count": 26,
   "id": "0fe1164f",
   "metadata": {},
   "outputs": [
    {
     "name": "stdout",
     "output_type": "stream",
     "text": [
      "frozenset({'K'}) --> frozenset({'E'}) conf: 0.8\n",
      "frozenset({'E'}) --> frozenset({'K'}) conf: 1.0\n",
      "frozenset({'M'}) --> frozenset({'K'}) conf: 1.0\n",
      "frozenset({'O'}) --> frozenset({'E'}) conf: 1.0\n",
      "frozenset({'E'}) --> frozenset({'O'}) conf: 0.7499999999999999\n",
      "frozenset({'O'}) --> frozenset({'K'}) conf: 1.0\n",
      "frozenset({'Y'}) --> frozenset({'K'}) conf: 1.0\n",
      "frozenset({'O'}) --> frozenset({'E', 'K'}) conf: 1.0\n",
      "frozenset({'E'}) --> frozenset({'O', 'K'}) conf: 0.7499999999999999\n"
     ]
    },
    {
     "ename": "UnboundLocalError",
     "evalue": "local variable 'Hmp1' referenced before assignment",
     "output_type": "error",
     "traceback": [
      "\u001b[1;31m---------------------------------------------------------------------------\u001b[0m",
      "\u001b[1;31mUnboundLocalError\u001b[0m                         Traceback (most recent call last)",
      "Cell \u001b[1;32mIn[26], line 1\u001b[0m\n\u001b[1;32m----> 1\u001b[0m rules \u001b[38;5;241m=\u001b[39m \u001b[43mgenerateRules\u001b[49m\u001b[43m(\u001b[49m\u001b[43mL\u001b[49m\u001b[43m,\u001b[49m\u001b[43m \u001b[49m\u001b[43msuppData\u001b[49m\u001b[43m,\u001b[49m\u001b[43m \u001b[49m\u001b[43mminConf\u001b[49m\u001b[38;5;241;43m=\u001b[39;49m\u001b[38;5;241;43m0.7\u001b[39;49m\u001b[43m)\u001b[49m\n\u001b[0;32m      3\u001b[0m \u001b[38;5;28;01mfor\u001b[39;00m rule \u001b[38;5;129;01min\u001b[39;00m rules:\n\u001b[0;32m      4\u001b[0m     antecedent, consequent, confidence \u001b[38;5;241m=\u001b[39m rule\n",
      "Cell \u001b[1;32mIn[22], line 7\u001b[0m, in \u001b[0;36mgenerateRules\u001b[1;34m(L, supportData, minConf)\u001b[0m\n\u001b[0;32m      5\u001b[0m H1\u001b[38;5;241m=\u001b[39m[\u001b[38;5;28mfrozenset\u001b[39m([item])\u001b[38;5;28;01mfor\u001b[39;00m item \u001b[38;5;129;01min\u001b[39;00m freqSet]\n\u001b[0;32m      6\u001b[0m \u001b[38;5;28;01mif\u001b[39;00m(i\u001b[38;5;241m>\u001b[39m\u001b[38;5;241m1\u001b[39m):\n\u001b[1;32m----> 7\u001b[0m  \u001b[43mrulesFromConseq\u001b[49m\u001b[43m(\u001b[49m\u001b[43mfreqSet\u001b[49m\u001b[43m,\u001b[49m\u001b[43mH1\u001b[49m\u001b[43m,\u001b[49m\u001b[43msupportData\u001b[49m\u001b[43m,\u001b[49m\u001b[43mbigRuleList\u001b[49m\u001b[43m,\u001b[49m\u001b[43mminConf\u001b[49m\u001b[43m)\u001b[49m\n\u001b[0;32m      8\u001b[0m \u001b[38;5;28;01melse\u001b[39;00m:\n\u001b[0;32m      9\u001b[0m  calcConf(freqSet,H1,supportData,bigRuleList,minConf)\n",
      "Cell \u001b[1;32mIn[24], line 7\u001b[0m, in \u001b[0;36mrulesFromConseq\u001b[1;34m(freqSet, H, supportData, brl, minConf)\u001b[0m\n\u001b[0;32m      5\u001b[0m  Hmp1\u001b[38;5;241m=\u001b[39mcalcConf(freqSet,Hmp1,supportData,brl,minConf)\n\u001b[0;32m      6\u001b[0m \u001b[38;5;28;01mif\u001b[39;00m(\u001b[38;5;28mlen\u001b[39m(Hmp1)\u001b[38;5;241m>\u001b[39m\u001b[38;5;241m1\u001b[39m):\n\u001b[1;32m----> 7\u001b[0m   \u001b[43mrulesFromConseq\u001b[49m\u001b[43m(\u001b[49m\u001b[43mfreqSet\u001b[49m\u001b[43m,\u001b[49m\u001b[43mHmp1\u001b[49m\u001b[43m,\u001b[49m\u001b[43msupportData\u001b[49m\u001b[43m,\u001b[49m\u001b[43mbrl\u001b[49m\u001b[43m,\u001b[49m\u001b[43mminConf\u001b[49m\u001b[43m)\u001b[49m\n",
      "Cell \u001b[1;32mIn[24], line 6\u001b[0m, in \u001b[0;36mrulesFromConseq\u001b[1;34m(freqSet, H, supportData, brl, minConf)\u001b[0m\n\u001b[0;32m      4\u001b[0m  Hmp1\u001b[38;5;241m=\u001b[39maprioriGen(H,m\u001b[38;5;241m+\u001b[39m\u001b[38;5;241m1\u001b[39m)\n\u001b[0;32m      5\u001b[0m  Hmp1\u001b[38;5;241m=\u001b[39mcalcConf(freqSet,Hmp1,supportData,brl,minConf)\n\u001b[1;32m----> 6\u001b[0m \u001b[38;5;28;01mif\u001b[39;00m(\u001b[38;5;28mlen\u001b[39m(\u001b[43mHmp1\u001b[49m)\u001b[38;5;241m>\u001b[39m\u001b[38;5;241m1\u001b[39m):\n\u001b[0;32m      7\u001b[0m   rulesFromConseq(freqSet,Hmp1,supportData,brl,minConf)\n",
      "\u001b[1;31mUnboundLocalError\u001b[0m: local variable 'Hmp1' referenced before assignment"
     ]
    }
   ],
   "source": [
    "rules = generateRules(L, suppData, minConf=0.7)\n",
    "\n",
    "for rule in rules:\n",
    "    antecedent, consequent, confidence = rule\n",
    "    print(f\"{antecedent} --> {consequent} conf: {confidence}\")"
   ]
  },
  {
   "cell_type": "code",
   "execution_count": null,
   "id": "d542206b",
   "metadata": {},
   "outputs": [],
   "source": []
  }
 ],
 "metadata": {
  "kernelspec": {
   "display_name": "Python 3 (ipykernel)",
   "language": "python",
   "name": "python3"
  },
  "language_info": {
   "codemirror_mode": {
    "name": "ipython",
    "version": 3
   },
   "file_extension": ".py",
   "mimetype": "text/x-python",
   "name": "python",
   "nbconvert_exporter": "python",
   "pygments_lexer": "ipython3",
   "version": "3.10.9"
  }
 },
 "nbformat": 4,
 "nbformat_minor": 5
}
